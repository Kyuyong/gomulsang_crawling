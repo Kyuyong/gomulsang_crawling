{
 "cells": [
  {
   "cell_type": "code",
   "execution_count": null,
   "id": "aa4ccc94",
   "metadata": {},
   "outputs": [],
   "source": [
    "from selenium import webdriver\n",
    "from selenium.webdriver.common.by import By\n",
    "from selenium.webdriver.common.keys import Keys\n",
    "from bs4 import BeautifulSoup\n",
    "import time\n",
    "import os\n",
    "import math\n",
    "import pandas as pd"
   ]
  },
  {
   "cell_type": "code",
   "execution_count": null,
   "id": "76f8dd79",
   "metadata": {},
   "outputs": [],
   "source": [
    "driver_path = \"./chromedriver/chromedriver\"\n",
    "driver = webdriver.Chrome(driver_path)\n",
    "\n",
    "url = \"https://map.kakao.com/\"\n",
    "driver.get(url)\n",
    "# 파란색 동그라미 없애기 \n",
    "driver.find_element(By.XPATH,'/html/body/div[10]/div').click()"
   ]
  },
  {
   "cell_type": "code",
   "execution_count": null,
   "id": "5f1aeb61",
   "metadata": {},
   "outputs": [],
   "source": [
    "# 검색 키워드 값\n",
    "search_word = '서울시 고물상'"
   ]
  },
  {
   "cell_type": "code",
   "execution_count": null,
   "id": "fd808dc0",
   "metadata": {},
   "outputs": [],
   "source": [
    "# 맵페이지 다시 불러오기 \n",
    "driver.get(url)\n",
    "\n",
    "# 키워드 검색하기\n",
    "driver.find_element(By.XPATH,'//*[@id=\"search.keyword.query\"]').clear()\n",
    "driver.find_element(By.XPATH,'//*[@id=\"search.keyword.query\"]').send_keys(search_word)\n",
    "driver.find_element(By.XPATH,'//*[@id=\"search.keyword.submit\"]').click()\n",
    "driver.implicitly_wait(10)\n",
    "time.sleep(2)\n",
    "\n",
    "# 장소 더보기 클릭\n",
    "driver.find_element(By.XPATH,'//*[@id=\"info.search.place.more\"]').click()\n",
    "driver.implicitly_wait(10)\n",
    "# 1page로 다시 이동\n",
    "driver.find_element(By.XPATH,'//*[@id=\"info.search.page.no1\"]').click()\n",
    "\n",
    "html = driver.page_source\n",
    "soup = BeautifulSoup(html, 'html.parser')\n",
    "#검색된 업체 갯수 확인하기, 검색페이지수와 다음페이지 갯수 확인하기 \n",
    "placecnt = int(soup.find('em', id='info.search.place.cnt').text)\n",
    "pagecnt = math.ceil(placecnt / 15)\n",
    "nxpa_cnt = math.floor(placecnt / 15 / 5)\n",
    "\n",
    "print(search_word+' 검색수 : ', placecnt)\n",
    "print(search_word+' 페이지수 : ', pagecnt)\n",
    "print(search_word+' 다음페이지수 : ', nxpa_cnt)\n",
    "\n",
    "#등록할 업체 배열 초기화\n",
    "nm = []\n",
    "addr = []\n",
    "phone = []\n"
   ]
  },
  {
   "cell_type": "code",
   "execution_count": null,
   "id": "24eb7e5d",
   "metadata": {},
   "outputs": [],
   "source": [
    "for i in range(nxpa_cnt+1):\n",
    "    #하단 5개 페이지 클릭하면서 업체 리스트 긁어오기 \n",
    "    for j in range(5):\n",
    "        try:\n",
    "            html = driver.page_source\n",
    "            soup = BeautifulSoup(html, 'html.parser')\n",
    "            \n",
    "            #하단 페이지 클릭하기 \n",
    "            driver.find_element(By.XPATH,'//*[@id=\"info.search.page.no'+str(j+1)+'\"]').click()\n",
    "            print('현재 클릭한 페이지: ',soup.find('div', id='info.search.page').find('a', id='info.search.page.no'+str(j+1)).text)\n",
    "            \n",
    "            driver.implicitly_wait(10)\n",
    "            time.sleep(3)\n",
    "            \n",
    "            #검색된 내용 파싱\n",
    "            placelist = soup.find('ul',id = 'info.search.place.list')\n",
    "            company_cnt = len(placelist.find_all('li'))\n",
    "            \n",
    "            #업체 배열에 내용 append하기\n",
    "            for k in range(company_cnt):\n",
    "                nm.append(placelist.find_all('div', 'head_item clickArea')[k].find('a', 'link_name').text)\n",
    "                addr.append(placelist.find_all('div', 'addr')[k].find('p').text)\n",
    "                phone.append(placelist.find_all('span', 'phone')[k].text)\n",
    "            \n",
    "            driver.implicitly_wait(10)\n",
    "            time.sleep(1)\n",
    "        except:\n",
    "            print('페이지가 없습니다.')\n",
    "            driver.implicitly_wait(10)\n",
    "            time.sleep(3)\n",
    "            \n",
    "    try:\n",
    "        # 다음 페이지 넘기기 \n",
    "        driver.find_element(By.XPATH,'//*[@id=\"info.search.page.next\"]').click()\n",
    "        print('=============')\n",
    "        print('다음 페이지로')\n",
    "        driver.implicitly_wait(10)\n",
    "        time.sleep(3)       \n",
    "        \n",
    "    except:\n",
    "        print('다음 페이지가 없습니다.')   \n",
    "        driver.implicitly_wait(10)\n",
    "        time.sleep(3)"
   ]
  },
  {
   "cell_type": "code",
   "execution_count": null,
   "id": "0a137505",
   "metadata": {},
   "outputs": [],
   "source": [
    "print(len(nm))\n",
    "print(len(addr))\n",
    "print(len(phone))\n"
   ]
  },
  {
   "cell_type": "code",
   "execution_count": null,
   "id": "defa673a",
   "metadata": {},
   "outputs": [],
   "source": [
    "#배열 합치고 pandas 저장하기\n",
    "data = {\n",
    "    \"place_name\":nm,\n",
    "    \"address\":addr,\n",
    "    \"phone_number\":phone,\n",
    "}\n",
    "df = pd.DataFrame(data)"
   ]
  },
  {
   "cell_type": "code",
   "execution_count": null,
   "id": "5ec3c685",
   "metadata": {},
   "outputs": [],
   "source": [
    "df.head()"
   ]
  },
  {
   "cell_type": "code",
   "execution_count": null,
   "id": "6dbd552c",
   "metadata": {},
   "outputs": [],
   "source": [
    "df.shape"
   ]
  },
  {
   "cell_type": "code",
   "execution_count": null,
   "id": "a0cebc20",
   "metadata": {},
   "outputs": [],
   "source": [
    "df1 = df.drop_duplicates(['place_name','address'], keep='first')"
   ]
  },
  {
   "cell_type": "code",
   "execution_count": null,
   "id": "a37b8b6f",
   "metadata": {},
   "outputs": [],
   "source": [
    "df1.shape"
   ]
  },
  {
   "cell_type": "code",
   "execution_count": null,
   "id": "5bad7775",
   "metadata": {},
   "outputs": [],
   "source": [
    "df1.to_excel('./'+search_word+'.xlsx', index=False)"
   ]
  },
  {
   "cell_type": "code",
   "execution_count": null,
   "id": "5a160bc4",
   "metadata": {},
   "outputs": [],
   "source": []
  },
  {
   "cell_type": "code",
   "execution_count": null,
   "id": "3b1c0ef6",
   "metadata": {},
   "outputs": [],
   "source": [
    "driver.close()"
   ]
  },
  {
   "cell_type": "code",
   "execution_count": null,
   "id": "8dd07d5e",
   "metadata": {},
   "outputs": [],
   "source": []
  }
 ],
 "metadata": {
  "kernelspec": {
   "display_name": "Python 3 (ipykernel)",
   "language": "python",
   "name": "python3"
  },
  "language_info": {
   "codemirror_mode": {
    "name": "ipython",
    "version": 3
   },
   "file_extension": ".py",
   "mimetype": "text/x-python",
   "name": "python",
   "nbconvert_exporter": "python",
   "pygments_lexer": "ipython3",
   "version": "3.10.9"
  }
 },
 "nbformat": 4,
 "nbformat_minor": 5
}
